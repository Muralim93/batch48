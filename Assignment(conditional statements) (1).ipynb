{
 "cells": [
  {
   "cell_type": "code",
   "execution_count": 4,
   "metadata": {},
   "outputs": [
    {
     "name": "stdout",
     "output_type": "stream",
     "text": [
      "enter a value:3\n",
      "(3, 'is odd number')\n"
     ]
    }
   ],
   "source": [
    "# Take number from the user decide whether it is even or odd.\n",
    "a=raw_input(\"enter a value:\")\n",
    "a=int(a)\n",
    "if (a%2==0):\n",
    "    print (a,\"is even number\")\n",
    "else:\n",
    "    print (a,'is odd number')"
   ]
  },
  {
   "cell_type": "code",
   "execution_count": 2,
   "metadata": {},
   "outputs": [
    {
     "name": "stdout",
     "output_type": "stream",
     "text": [
      "enter a value:5\n",
      "(5, 'is positive number')\n"
     ]
    }
   ],
   "source": [
    "# Take number from the user decide whether it is positive number or negative number\n",
    "a=raw_input(\"enter a value:\")\n",
    "a=int(a)\n",
    "if (a>=0):\n",
    "    print (a,\"is positive number\")\n",
    "else:\n",
    "    print (a,\"is negative number\")"
   ]
  },
  {
   "cell_type": "code",
   "execution_count": 1,
   "metadata": {},
   "outputs": [
    {
     "name": "stdout",
     "output_type": "stream",
     "text": [
      "enter course name: python\n",
      "6\n"
     ]
    }
   ],
   "source": [
    "# Take a string from the user print the length. if the user not given anything then show an error message\n",
    "a=raw_input(\"enter course name: \")\n",
    "if a:\n",
    "    print len(a)\n",
    "else:\n",
    "    print \"error-course name invalid\""
   ]
  },
  {
   "cell_type": "code",
   "execution_count": 16,
   "metadata": {},
   "outputs": [
    {
     "name": "stdout",
     "output_type": "stream",
     "text": [
      "enter a value:10\n",
      "enter a value:20\n",
      "mathematical operations:\n",
      "\t1.Add\n",
      "\t2.Subtract\n",
      "\t3.multiply\n",
      "\t4.Divide\n",
      "\t5.Quit\n",
      "\n",
      "enter an option:1\n",
      "30\n"
     ]
    }
   ],
   "source": [
    "# Code to perform mathematical operations. take two numbers from the user: 1. add, 2. sub, 3. mul, 4.div, 5.quit\n",
    "a=raw_input(\"enter a value:\")\n",
    "b=raw_input(\"enter a value:\")\n",
    "print \"mathematical operations:\\n\\t1.Add\\n\\t2.Subtract\\n\\t3.multiply\\n\\t4.Divide\\n\\t5.Quit\\n\"\n",
    "option = raw_input(\"enter an option:\")\n",
    "if option==\"1\":\n",
    "    print int(a)+int(b)\n",
    "if option==\"2\":\n",
    "    print int(a)-int(b)\n",
    "if option==\"3\":\n",
    "    print int(a)*int(b)\n",
    "if option==\"4\":\n",
    "    print int(a)/int(b)\n",
    "if option==\"5\":\n",
    "    print quit()"
   ]
  },
  {
   "cell_type": "code",
   "execution_count": 11,
   "metadata": {},
   "outputs": [
    {
     "name": "stdout",
     "output_type": "stream",
     "text": [
      "Enter First Number100\n",
      "Enter Second Number200\n",
      "Enter Third Number3222\n",
      "Third number is Big\n",
      "Thanks for Using\n"
     ]
    }
   ],
   "source": [
    "# Take three numbers from the user and decide which is big\n",
    "a=raw_input(\"Enter First Number\")\n",
    "b=raw_input(\"Enter Second Number\")\n",
    "c=raw_input(\"Enter Third Number\")\n",
    "if a>b and a>c:\n",
    "    print \"First Number is Big\"\n",
    "if b>a and b>c:\n",
    "    print \"Second Number is Big\"\n",
    "if c>a and c>b:\n",
    "    print \"Third number is Big\"\n",
    "print \"Thanks for Using\""
   ]
  },
  {
   "cell_type": "code",
   "execution_count": 12,
   "metadata": {},
   "outputs": [
    {
     "name": "stdout",
     "output_type": "stream",
     "text": [
      "Menu:\n",
      "\t1.Kids\n",
      "\t2.Men's\n",
      "\t3.Women's\n"
     ]
    }
   ],
   "source": [
    "# Question No:-11\n",
    "print \"Menu:\\n\\t1.Kids\\n\\t2.Men's\\n\\t3.Women's\""
   ]
  },
  {
   "cell_type": "code",
   "execution_count": 22,
   "metadata": {},
   "outputs": [
    {
     "name": "stdout",
     "output_type": "stream",
     "text": [
      "Enter your selction: 484\n",
      "Invalid Selection\n"
     ]
    }
   ],
   "source": [
    "a=raw_input(\"Enter your selction: \")\n",
    "if a==\"1\":\n",
    "    print \"Kids\"\n",
    "elif a==\"2\":\n",
    "    print \"Men's\"\n",
    "elif a==\"3\":\n",
    "    print \"Women's\"\n",
    "else:\n",
    "    print \"Invalid Selection\""
   ]
  },
  {
   "cell_type": "code",
   "execution_count": 23,
   "metadata": {},
   "outputs": [
    {
     "name": "stdout",
     "output_type": "stream",
     "text": [
      "Gender:\n",
      "\t1.Male\n",
      "\t2.Female\n",
      "Enter a Gender: 1\n",
      "Enter an age of the person: 20\n",
      "Evaluating for Men\n",
      "Eligible for marriage in INDIA\n"
     ]
    }
   ],
   "source": [
    "# Q.No:-15.Decide whether he is eligible for marriage in India or not. \n",
    "print \"Gender:\\n\\t1.Male\\n\\t2.Female\"\n",
    "Option_Gender=raw_input(\"Enter a Gender: \")\n",
    "age=int(raw_input(\"Enter an age of the person: \"))\n",
    "if Option_Gender==\"1\":\n",
    "    print \"Evaluating for Men\"\n",
    "    if age>=18: \n",
    "        print \"Eligible for marriage in INDIA\"\n",
    "    else:\n",
    "        print \"Not eligible for Marriage in INDIA\"\n",
    "else:\n",
    "    print \"Evaluating for Women\"\n",
    "    if age>=18:\n",
    "        print \"Eligible for marriage in INDIA\"\n",
    "    else:\n",
    "        print \"Not eligible for Marriage in INDIA\""
   ]
  },
  {
   "cell_type": "code",
   "execution_count": 24,
   "metadata": {},
   "outputs": [
    {
     "name": "stdout",
     "output_type": "stream",
     "text": [
      "Eligibility:\n",
      "\t1.Theater:\n",
      "\t2.voting system\n",
      "\t3.Marriage in India\n",
      "\t4.For Govt. Jobs\n",
      "\t5.For driving license\n",
      "Enter an option1\n",
      "Gender:\n",
      "\t1.Male\n",
      "\t2.Female\n",
      "Enter a gender:1\n",
      "Enter an age of the person:21\n",
      "Evaluating for theater\n",
      "Evaluating for Men\n",
      "Eligible for entry in theater\n"
     ]
    }
   ],
   "source": [
    "#Question No:- 17\n",
    "print \"Eligibility:\\n\\t1.Theater:\\n\\t2.voting system\\n\\t3.Marriage in India\\n\\t4.For Govt. Jobs\\n\\t5.For driving license\"\n",
    "a=raw_input(\"Enter an option\")\n",
    "print \"Gender:\\n\\t1.Male\\n\\t2.Female\"\n",
    "b=raw_input(\"Enter a gender:\")\n",
    "age=int(raw_input(\"Enter an age of the person:\"))\n",
    "if a==\"1\":\n",
    "    print \"Evaluating for theater\"\n",
    "    if b==\"1\":\n",
    "        print \"Evaluating for Men\"\n",
    "        if age>=5:\n",
    "            print \"Eligible for entry in theater\"\n",
    "        else:\n",
    "            print \"not eligible for watching movie\"\n",
    "    else:\n",
    "        print \"evaluating for Women\"\n",
    "        if age>=7:\n",
    "            print \"Eligible for entry in theater\"\n",
    "        else:\n",
    "            print \"not eligible for watching movie\""
   ]
  },
  {
   "cell_type": "code",
   "execution_count": 25,
   "metadata": {},
   "outputs": [
    {
     "name": "stdout",
     "output_type": "stream",
     "text": [
      "Eligibility:\n",
      "\t1.Theater:\n",
      "\t2.voting system\n",
      "\t3.Marriage in India\n",
      "\t4.For Govt. Jobs\n",
      "\t5.For driving license\n",
      "Enter an option2\n",
      "Gender:\n",
      "\t1.Male\n",
      "\t2.Female\n",
      "Enter a gender:2\n",
      "Enter an age of the person:15\n",
      "Evaluating for Voting System\n",
      "evaluating for Women\n",
      "not Eligible for Voting System\n"
     ]
    }
   ],
   "source": [
    "print \"Eligibility:\\n\\t1.Theater:\\n\\t2.voting system\\n\\t3.Marriage in India\\n\\t4.For Govt. Jobs\\n\\t5.For driving license\"\n",
    "a=raw_input(\"Enter an option\")\n",
    "print \"Gender:\\n\\t1.Male\\n\\t2.Female\"\n",
    "b=raw_input(\"Enter a gender:\")\n",
    "age=int(raw_input(\"Enter an age of the person:\"))\n",
    "if a==\"2\":\n",
    "    print \"Evaluating for Voting System\"\n",
    "    if b==\"1\":\n",
    "        print \"Evaluating for Men\"\n",
    "        if age>=18:\n",
    "            print \"Eligible for Voting System\"\n",
    "        else:\n",
    "            print \"not Eligible for Voting System\"\n",
    "    else:\n",
    "        print \"evaluating for Women\"\n",
    "        if age>=18:\n",
    "            print \"Eligible for Voting System\"\n",
    "        else:\n",
    "            print \"not Eligible for Voting System\""
   ]
  },
  {
   "cell_type": "code",
   "execution_count": 26,
   "metadata": {},
   "outputs": [
    {
     "name": "stdout",
     "output_type": "stream",
     "text": [
      "Eligibility:\n",
      "\t1.Theater:\n",
      "\t2.voting system\n",
      "\t3.Marriage in India\n",
      "\t4.For Govt. Jobs\n",
      "\t5.For driving license\n",
      "Enter an option3\n",
      "Gender:\n",
      "\t1.Male\n",
      "\t2.Female\n",
      "Enter a gender:1\n",
      "Enter an age of the person:18\n",
      "Eligible for marriage in INDIA\n",
      "Evaluating for Men\n",
      "Not eligible for Marriage in INDIA\n"
     ]
    }
   ],
   "source": [
    "print \"Eligibility:\\n\\t1.Theater:\\n\\t2.voting system\\n\\t3.Marriage in India\\n\\t4.For Govt. Jobs\\n\\t5.For driving license\"\n",
    "a=raw_input(\"Enter an option\")\n",
    "print \"Gender:\\n\\t1.Male\\n\\t2.Female\"\n",
    "b=raw_input(\"Enter a gender:\")\n",
    "age=int(raw_input(\"Enter an age of the person:\"))\n",
    "if a==\"3\":\n",
    "    print \"Eligible for marriage in INDIA\"\n",
    "    if b==\"1\":\n",
    "        print \"Evaluating for Men\"\n",
    "        if age>=21:\n",
    "            print \"Eligible for Marriage in INDIA\"\n",
    "        else:\n",
    "            print \"Not eligible for Marriage in INDIA\"\n",
    "    else:\n",
    "        print \"Evaluating for Women\"\n",
    "        if age>=18:\n",
    "            print \"Eligible for Marriage in INDIA\"\n",
    "        else:\n",
    "            print \"Not eligible for Marriage in INDIA\""
   ]
  },
  {
   "cell_type": "code",
   "execution_count": 27,
   "metadata": {},
   "outputs": [
    {
     "name": "stdout",
     "output_type": "stream",
     "text": [
      "Eligibility:\n",
      "\t1.Theater:\n",
      "\t2.voting system\n",
      "\t3.Marriage in India\n",
      "\t4.For Govt. Jobs\n",
      "\t5.For driving license\n",
      "Enter an option: 4\n",
      "Gender:\n",
      "\t1.Male\n",
      "\t2.Female\n",
      "Enter a gender:2\n",
      "Enter an age of the person:18\n",
      "Evaluating for Govt. jobs\n",
      "Evaluating for Women\n",
      "Eligible for Govt. jobs\n"
     ]
    }
   ],
   "source": [
    "print \"Eligibility:\\n\\t1.Theater:\\n\\t2.voting system\\n\\t3.Marriage in India\\n\\t4.For Govt. Jobs\\n\\t5.For driving license\"\n",
    "a=raw_input(\"Enter an option: \")\n",
    "print \"Gender:\\n\\t1.Male\\n\\t2.Female\"\n",
    "b=raw_input(\"Enter a gender:\")\n",
    "age=int(raw_input(\"Enter an age of the person:\"))\n",
    "if a==\"4\":\n",
    "    print \"Evaluating for Govt. jobs\"\n",
    "    if b==\"1\":\n",
    "        print \"Evaluating for Men\"\n",
    "        if age>=18:\n",
    "            print \"Eligible for Govt. jobs\"\n",
    "        else:\n",
    "            print \"Not Eligible for Govt. jobs\"\n",
    "    else:\n",
    "        print \"Evaluating for Women\"\n",
    "        if age>=18:\n",
    "            print \"Eligible for Govt. jobs\"\n",
    "        else:\n",
    "            print \"Not eligible for Govt. jobs\""
   ]
  },
  {
   "cell_type": "code",
   "execution_count": 28,
   "metadata": {},
   "outputs": [
    {
     "name": "stdout",
     "output_type": "stream",
     "text": [
      "Eligibility:\n",
      "\t1.Theater:\n",
      "\t2.voting system\n",
      "\t3.Marriage in India\n",
      "\t4.For Govt. Jobs\n",
      "\t5.For driving license\n",
      "Enter an option: 5\n",
      "Gender:\n",
      "\t1.Male\n",
      "\t2.Female\n",
      "Enter a gender:1\n",
      "Enter an age of the person: 17\n",
      "Evaluating for Driving License \n",
      "Evaluating for Men\n",
      "Not Eligible for Driving License\n"
     ]
    }
   ],
   "source": [
    "print \"Eligibility:\\n\\t1.Theater:\\n\\t2.voting system\\n\\t3.Marriage in India\\n\\t4.For Govt. Jobs\\n\\t5.For driving license\"\n",
    "a=raw_input(\"Enter an option: \")\n",
    "print \"Gender:\\n\\t1.Male\\n\\t2.Female\"\n",
    "b=raw_input(\"Enter a gender:\")\n",
    "age=int(raw_input(\"Enter an age of the person: \"))\n",
    "if a==\"5\":\n",
    "    print \"Evaluating for Driving License \"\n",
    "    if b==\"1\":\n",
    "        print \"Evaluating for Men\"\n",
    "        if age>=18:\n",
    "            print \"Eligible for Driving License\"\n",
    "        else:\n",
    "            print \"Not Eligible for Driving License\"\n",
    "    else: \n",
    "        print \"Evaluating for Women\"\n",
    "        if age>=18:\n",
    "            print \"Eligible for Driving License\"\n",
    "        else:\n",
    "            print \"ligible for Driving License\""
   ]
  },
  {
   "cell_type": "code",
   "execution_count": 29,
   "metadata": {},
   "outputs": [
    {
     "name": "stdout",
     "output_type": "stream",
     "text": [
      "Eligibility:\n",
      "\t1.Theater:\n",
      "\t2.voting system\n",
      "\t3.Marriage in India\n",
      "\t4.For Govt. Jobs\n",
      "\t5.For driving license\n",
      "Enter an option2\n",
      "Gender:\n",
      "\t1.Male\n",
      "\t2.Female\n",
      "Enter a gender:2\n",
      "Enter an age of the person:17\n",
      "Evaluating for Voting System\n",
      "evaluating for Women\n",
      "not Eligible for Voting System\n"
     ]
    }
   ],
   "source": [
    "#Overall total coding together for Question No:-17\n",
    "print \"Eligibility:\\n\\t1.Theater:\\n\\t2.voting system\\n\\t3.Marriage in India\\n\\t4.For Govt. Jobs\\n\\t5.For driving license\"\n",
    "a=raw_input(\"Enter an option\")\n",
    "print \"Gender:\\n\\t1.Male\\n\\t2.Female\"\n",
    "b=raw_input(\"Enter a gender:\")\n",
    "age=int(raw_input(\"Enter an age of the person:\"))\n",
    "if a==\"1\":\n",
    "    print \"Evaluating for theater\"\n",
    "    if b==\"1\":\n",
    "        print \"Evaluating for Men\"\n",
    "        if age>=5:\n",
    "            print \"Eligible for entry in theater\"\n",
    "        else:\n",
    "            print \"not eligible for watching movie\"\n",
    "    else:\n",
    "        print \"evaluating for Women\"\n",
    "        if age>=7:\n",
    "            print \"Eligible for entry in theater\"\n",
    "        else:\n",
    "            print \"not eligible for watching movie\"\n",
    "if a==\"2\":\n",
    "    print \"Evaluating for Voting System\"\n",
    "    if b==\"1\":\n",
    "        print \"Evaluating for Men\"\n",
    "        if age>=18:\n",
    "            print \"Eligible for Voting System\"\n",
    "        else:\n",
    "            print \"not Eligible for Voting System\"\n",
    "    else:\n",
    "        print \"evaluating for Women\"\n",
    "        if age>=18:\n",
    "            print \"Eligible for Voting System\"\n",
    "        else:\n",
    "            print \"not Eligible for Voting System\"\n",
    "if a==\"3\":\n",
    "    print \"Eligible for marriage in INDIA\"\n",
    "    if b==\"1\":\n",
    "        print \"Evaluating for Men\"\n",
    "        if age>=21:\n",
    "            print \"Eligible for Marriage in INDIA\"\n",
    "        else:\n",
    "            print \"Not eligible for Marriage in INDIA\"\n",
    "    else:\n",
    "        print \"Evaluating for Women\"\n",
    "        if age>=18:\n",
    "            print \"Eligible for Marriage in INDIA\"\n",
    "        else:\n",
    "            print \"Not eligible for Marriage in INDIA\"\n",
    "if a==\"4\":\n",
    "    print \"Evaluating for Govt. jobs\"\n",
    "    if b==\"1\":\n",
    "        print \"Evaluating for Men\"\n",
    "        if age>=18:\n",
    "            print \"Eligible for Govt. jobs\"\n",
    "        else:\n",
    "            print \"Not Eligible for Govt. jobs\"\n",
    "    else:\n",
    "        print \"Evaluating for Women\"\n",
    "        if age>=18:\n",
    "            print \"Eligible for Govt. jobs\"\n",
    "        else:\n",
    "            print \"Not eligible for Govt. jobs\"\n",
    "if a==\"5\":\n",
    "    print \"Evaluating for Driving License \"\n",
    "    if b==\"1\":\n",
    "        print \"Evaluating for Men\"\n",
    "        if age>=18:\n",
    "            print \"Eligible for Driving License\"\n",
    "        else:\n",
    "            print \"Not Eligible for Driving License\"\n",
    "    else: \n",
    "        print \"Evaluating for Women\"\n",
    "        if age>=18:\n",
    "            print \"Eligible for Driving License\"\n",
    "        else:\n",
    "            print \"ligible for Driving License\""
   ]
  },
  {
   "cell_type": "code",
   "execution_count": null,
   "metadata": {},
   "outputs": [],
   "source": []
  }
 ],
 "metadata": {
  "kernelspec": {
   "display_name": "Python 2",
   "language": "python",
   "name": "python2"
  },
  "language_info": {
   "codemirror_mode": {
    "name": "ipython",
    "version": 2
   },
   "file_extension": ".py",
   "mimetype": "text/x-python",
   "name": "python",
   "nbconvert_exporter": "python",
   "pygments_lexer": "ipython2",
   "version": "2.7.15"
  }
 },
 "nbformat": 4,
 "nbformat_minor": 2
}
